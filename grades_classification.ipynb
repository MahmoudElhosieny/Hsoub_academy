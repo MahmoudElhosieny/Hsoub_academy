{
  "nbformat": 4,
  "nbformat_minor": 0,
  "metadata": {
    "colab": {
      "provenance": []
    },
    "kernelspec": {
      "name": "python3",
      "display_name": "Python 3"
    },
    "language_info": {
      "name": "python"
    }
  },
  "cells": [
    {
      "cell_type": "code",
      "execution_count": 20,
      "metadata": {
        "colab": {
          "base_uri": "https://localhost:8080/"
        },
        "id": "AbdohrWkT6qc",
        "outputId": "83e00683-3a8b-4934-d607-6cc506c26df1"
      },
      "outputs": [
        {
          "output_type": "stream",
          "name": "stdout",
          "text": [
            "Please, Enter your grade: 1\n",
            "==> Sorry, Your grade is F.\n"
          ]
        }
      ],
      "source": [
        "def chcek_error():\n",
        "  try:\n",
        "    grade = float(input('Please, Enter your grade: '))\n",
        "  except ValueError:\n",
        "    grade = None\n",
        "  return grade\n",
        "\n",
        "grade = chcek_error()\n",
        "match grade:\n",
        "    case grade if grade == None:\n",
        "          print('==> Sorry, Invalid grade, your grade must be a number!!.')\n",
        "    case grade if grade > 100:\n",
        "        print('==> Sorry, Invalid grade, your grade must be less than (100)!!.')\n",
        "    case grade if grade < 0:\n",
        "        print('==> Sorry, Invalid grade, your grade must be greater than (0)!!.')\n",
        "    case grade if grade >= 90:\n",
        "        print('==> Your grade is A.')\n",
        "    case grade if grade >= 80:\n",
        "        print('==> Your grade is B.')\n",
        "    case grade if grade >= 70:\n",
        "        print('==> Your grade is C+.')\n",
        "    case grade if grade >= 60:\n",
        "        print('==> Your grade is C.')\n",
        "    case grade if grade >= 50:\n",
        "        print('==> Your grade is D.')\n",
        "    case grade if grade < 50:\n",
        "        print('==> Sorry, Your grade is F.')\n",
        "    case _ :\n",
        "        print('==> Sorry, Invalid grade, enter your grade as a number (1,2,3,...)!!.')\n"
      ]
    },
    {
      "cell_type": "code",
      "source": [
        "def chcek_error():\n",
        "  try:\n",
        "    grade0 = float(input('Please, Enter your grade: '))\n",
        "  except ValueError:\n",
        "    grade0 = None\n",
        "  return grade0\n",
        "\n",
        "grade0 = chcek_error()\n",
        "# print(grade0)\n",
        "\n",
        "if grade0 == None:\n",
        "  print('==> Sorry, Invalid grade, your grade must be a number!!.')\n",
        "elif grade0 > 100:\n",
        "  print('==> Sorry, Invalid grade, your grade must be less than (100)!!.')\n",
        "elif grade0 < 0:\n",
        "  print('==> Sorry, Invalid grade, your grade must be greater than (0)!!.')\n",
        "elif grade0 >= 90:\n",
        "  print('==> Your grade is A.')\n",
        "elif grade0 >= 80:\n",
        "  print('==> Your grade is B.')\n",
        "elif grade0 >= 70:\n",
        "  print('==> Your grade is C+.')\n",
        "elif grade0 >= 60:\n",
        "  print('==> Your grade is C.')\n",
        "elif grade0 >= 50:\n",
        "  print('==> Your grade is D.')\n",
        "elif grade0 < 50:\n",
        "  print('==> Sorry, Your grade is F.')\n",
        "\n"
      ],
      "metadata": {
        "colab": {
          "base_uri": "https://localhost:8080/"
        },
        "id": "BVxLjF8sT_gh",
        "outputId": "70df9928-68f0-41e9-afb6-fc36e8c121b6"
      },
      "execution_count": 11,
      "outputs": [
        {
          "output_type": "stream",
          "name": "stdout",
          "text": [
            "Please, Enter your grade: 70\n",
            "==> Your grade is C+.\n"
          ]
        }
      ]
    },
    {
      "cell_type": "code",
      "source": [],
      "metadata": {
        "id": "WigRXp8eT_jD"
      },
      "execution_count": null,
      "outputs": []
    },
    {
      "cell_type": "code",
      "source": [],
      "metadata": {
        "id": "pTVKPdvfT_ll"
      },
      "execution_count": null,
      "outputs": []
    },
    {
      "cell_type": "code",
      "source": [],
      "metadata": {
        "id": "s5_O_YYET_n4"
      },
      "execution_count": null,
      "outputs": []
    },
    {
      "cell_type": "code",
      "source": [],
      "metadata": {
        "id": "XHxbIKEqT_qh"
      },
      "execution_count": null,
      "outputs": []
    },
    {
      "cell_type": "code",
      "source": [],
      "metadata": {
        "id": "7VxGCi-cT_tK"
      },
      "execution_count": null,
      "outputs": []
    },
    {
      "cell_type": "code",
      "source": [],
      "metadata": {
        "id": "EfnT2rEsT_xE"
      },
      "execution_count": null,
      "outputs": []
    }
  ]
}